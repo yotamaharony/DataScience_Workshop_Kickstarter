{
 "cells": [
  {
   "cell_type": "markdown",
   "metadata": {},
   "source": [
    "# Kickstarter Projects\n",
    "## 1.Data preparation and cleaning\n",
    "## Import Python Libraries"
   ]
  },
  {
   "cell_type": "code",
   "execution_count": 150,
   "metadata": {},
   "outputs": [],
   "source": [
    "import pandas as pd\n",
    "import numpy as np\n",
    "import matplotlib.pyplot as plt\n",
    "from IPython.display import display\n",
    "import seaborn as sns\n",
    "\n",
    "# need to install\n",
    "#conda install -c konstantinstadler country_converter\n",
    "import country_converter as coco # a country converter\n",
    "\n",
    "# conda install -c anaconda nltk\n",
    "import nltk # for NLP\n",
    "#ltk.download('stopwords')"
   ]
  },
  {
   "cell_type": "markdown",
   "metadata": {},
   "source": [
    "## Data preperation"
   ]
  },
  {
   "cell_type": "code",
   "execution_count": 151,
   "metadata": {},
   "outputs": [
    {
     "data": {
      "text/html": [
       "<div>\n",
       "<style scoped>\n",
       "    .dataframe tbody tr th:only-of-type {\n",
       "        vertical-align: middle;\n",
       "    }\n",
       "\n",
       "    .dataframe tbody tr th {\n",
       "        vertical-align: top;\n",
       "    }\n",
       "\n",
       "    .dataframe thead th {\n",
       "        text-align: right;\n",
       "    }\n",
       "</style>\n",
       "<table border=\"1\" class=\"dataframe\">\n",
       "  <thead>\n",
       "    <tr style=\"text-align: right;\">\n",
       "      <th></th>\n",
       "      <th>ID</th>\n",
       "      <th>name</th>\n",
       "      <th>category</th>\n",
       "      <th>main_category</th>\n",
       "      <th>currency</th>\n",
       "      <th>deadline</th>\n",
       "      <th>goal</th>\n",
       "      <th>launched</th>\n",
       "      <th>pledged</th>\n",
       "      <th>state</th>\n",
       "      <th>backers</th>\n",
       "      <th>country</th>\n",
       "      <th>usd pledged</th>\n",
       "      <th>usd_pledged_real</th>\n",
       "      <th>usd_goal_real</th>\n",
       "    </tr>\n",
       "  </thead>\n",
       "  <tbody>\n",
       "    <tr>\n",
       "      <th>0</th>\n",
       "      <td>1000002330</td>\n",
       "      <td>The Songs of Adelaide &amp; Abullah</td>\n",
       "      <td>Poetry</td>\n",
       "      <td>Publishing</td>\n",
       "      <td>GBP</td>\n",
       "      <td>2015-10-09</td>\n",
       "      <td>1000.0</td>\n",
       "      <td>2015-08-11 12:12:28</td>\n",
       "      <td>0.0</td>\n",
       "      <td>failed</td>\n",
       "      <td>0</td>\n",
       "      <td>GB</td>\n",
       "      <td>0.0</td>\n",
       "      <td>0.0</td>\n",
       "      <td>1533.95</td>\n",
       "    </tr>\n",
       "    <tr>\n",
       "      <th>1</th>\n",
       "      <td>1000003930</td>\n",
       "      <td>Greeting From Earth: ZGAC Arts Capsule For ET</td>\n",
       "      <td>Narrative Film</td>\n",
       "      <td>Film &amp; Video</td>\n",
       "      <td>USD</td>\n",
       "      <td>2017-11-01</td>\n",
       "      <td>30000.0</td>\n",
       "      <td>2017-09-02 04:43:57</td>\n",
       "      <td>2421.0</td>\n",
       "      <td>failed</td>\n",
       "      <td>15</td>\n",
       "      <td>US</td>\n",
       "      <td>100.0</td>\n",
       "      <td>2421.0</td>\n",
       "      <td>30000.00</td>\n",
       "    </tr>\n",
       "    <tr>\n",
       "      <th>2</th>\n",
       "      <td>1000004038</td>\n",
       "      <td>Where is Hank?</td>\n",
       "      <td>Narrative Film</td>\n",
       "      <td>Film &amp; Video</td>\n",
       "      <td>USD</td>\n",
       "      <td>2013-02-26</td>\n",
       "      <td>45000.0</td>\n",
       "      <td>2013-01-12 00:20:50</td>\n",
       "      <td>220.0</td>\n",
       "      <td>failed</td>\n",
       "      <td>3</td>\n",
       "      <td>US</td>\n",
       "      <td>220.0</td>\n",
       "      <td>220.0</td>\n",
       "      <td>45000.00</td>\n",
       "    </tr>\n",
       "    <tr>\n",
       "      <th>3</th>\n",
       "      <td>1000007540</td>\n",
       "      <td>ToshiCapital Rekordz Needs Help to Complete Album</td>\n",
       "      <td>Music</td>\n",
       "      <td>Music</td>\n",
       "      <td>USD</td>\n",
       "      <td>2012-04-16</td>\n",
       "      <td>5000.0</td>\n",
       "      <td>2012-03-17 03:24:11</td>\n",
       "      <td>1.0</td>\n",
       "      <td>failed</td>\n",
       "      <td>1</td>\n",
       "      <td>US</td>\n",
       "      <td>1.0</td>\n",
       "      <td>1.0</td>\n",
       "      <td>5000.00</td>\n",
       "    </tr>\n",
       "    <tr>\n",
       "      <th>4</th>\n",
       "      <td>1000011046</td>\n",
       "      <td>Community Film Project: The Art of Neighborhoo...</td>\n",
       "      <td>Film &amp; Video</td>\n",
       "      <td>Film &amp; Video</td>\n",
       "      <td>USD</td>\n",
       "      <td>2015-08-29</td>\n",
       "      <td>19500.0</td>\n",
       "      <td>2015-07-04 08:35:03</td>\n",
       "      <td>1283.0</td>\n",
       "      <td>canceled</td>\n",
       "      <td>14</td>\n",
       "      <td>US</td>\n",
       "      <td>1283.0</td>\n",
       "      <td>1283.0</td>\n",
       "      <td>19500.00</td>\n",
       "    </tr>\n",
       "  </tbody>\n",
       "</table>\n",
       "</div>"
      ],
      "text/plain": [
       "           ID                                               name  \\\n",
       "0  1000002330                    The Songs of Adelaide & Abullah   \n",
       "1  1000003930      Greeting From Earth: ZGAC Arts Capsule For ET   \n",
       "2  1000004038                                     Where is Hank?   \n",
       "3  1000007540  ToshiCapital Rekordz Needs Help to Complete Album   \n",
       "4  1000011046  Community Film Project: The Art of Neighborhoo...   \n",
       "\n",
       "         category main_category currency    deadline     goal  \\\n",
       "0          Poetry    Publishing      GBP  2015-10-09   1000.0   \n",
       "1  Narrative Film  Film & Video      USD  2017-11-01  30000.0   \n",
       "2  Narrative Film  Film & Video      USD  2013-02-26  45000.0   \n",
       "3           Music         Music      USD  2012-04-16   5000.0   \n",
       "4    Film & Video  Film & Video      USD  2015-08-29  19500.0   \n",
       "\n",
       "              launched  pledged     state  backers country  usd pledged  \\\n",
       "0  2015-08-11 12:12:28      0.0    failed        0      GB          0.0   \n",
       "1  2017-09-02 04:43:57   2421.0    failed       15      US        100.0   \n",
       "2  2013-01-12 00:20:50    220.0    failed        3      US        220.0   \n",
       "3  2012-03-17 03:24:11      1.0    failed        1      US          1.0   \n",
       "4  2015-07-04 08:35:03   1283.0  canceled       14      US       1283.0   \n",
       "\n",
       "   usd_pledged_real  usd_goal_real  \n",
       "0               0.0        1533.95  \n",
       "1            2421.0       30000.00  \n",
       "2             220.0       45000.00  \n",
       "3               1.0        5000.00  \n",
       "4            1283.0       19500.00  "
      ]
     },
     "execution_count": 151,
     "metadata": {},
     "output_type": "execute_result"
    }
   ],
   "source": [
    "df = pd.read_csv(\"ks-projects-201801.csv\")\n",
    "df.head(5)"
   ]
  },
  {
   "cell_type": "code",
   "execution_count": 152,
   "metadata": {},
   "outputs": [
    {
     "data": {
      "text/plain": [
       "Index(['ID', 'name', 'category', 'main_category', 'currency', 'deadline',\n",
       "       'goal', 'launched', 'pledged', 'state', 'backers', 'country',\n",
       "       'usd pledged', 'usd_pledged_real', 'usd_goal_real'],\n",
       "      dtype='object')"
      ]
     },
     "execution_count": 152,
     "metadata": {},
     "output_type": "execute_result"
    }
   ],
   "source": [
    "df.columns #let's see which columns ther are"
   ]
  },
  {
   "cell_type": "markdown",
   "metadata": {},
   "source": [
    "## Drop Unnecessary Columns"
   ]
  },
  {
   "cell_type": "markdown",
   "metadata": {},
   "source": [
    "TODO: explain why we dropped this..."
   ]
  },
  {
   "cell_type": "code",
   "execution_count": 153,
   "metadata": {},
   "outputs": [],
   "source": [
    "df = df.drop('backers', axis = 1) #TODO: explain\n",
    "df = df.drop('usd pledged', axis = 1) #there is usd_pledged_real\n",
    "df = df.drop('currency', axis = 1)    # TODO: explain\n",
    "df = df.drop('goal', axis = 1)    # TODO: explain\n",
    "df = df.drop('pledged', axis = 1)    # TODO: explain\n",
    "df = df.drop('ID', axis = 1)    # TODO: explain"
   ]
  },
  {
   "cell_type": "code",
   "execution_count": 154,
   "metadata": {},
   "outputs": [
    {
     "data": {
      "text/html": [
       "<div>\n",
       "<style scoped>\n",
       "    .dataframe tbody tr th:only-of-type {\n",
       "        vertical-align: middle;\n",
       "    }\n",
       "\n",
       "    .dataframe tbody tr th {\n",
       "        vertical-align: top;\n",
       "    }\n",
       "\n",
       "    .dataframe thead th {\n",
       "        text-align: right;\n",
       "    }\n",
       "</style>\n",
       "<table border=\"1\" class=\"dataframe\">\n",
       "  <thead>\n",
       "    <tr style=\"text-align: right;\">\n",
       "      <th></th>\n",
       "      <th>name</th>\n",
       "      <th>category</th>\n",
       "      <th>main_category</th>\n",
       "      <th>deadline</th>\n",
       "      <th>launched</th>\n",
       "      <th>state</th>\n",
       "      <th>country</th>\n",
       "      <th>usd_pledged_real</th>\n",
       "      <th>usd_goal_real</th>\n",
       "    </tr>\n",
       "  </thead>\n",
       "  <tbody>\n",
       "    <tr>\n",
       "      <th>0</th>\n",
       "      <td>The Songs of Adelaide &amp; Abullah</td>\n",
       "      <td>Poetry</td>\n",
       "      <td>Publishing</td>\n",
       "      <td>2015-10-09</td>\n",
       "      <td>2015-08-11 12:12:28</td>\n",
       "      <td>failed</td>\n",
       "      <td>GB</td>\n",
       "      <td>0.0</td>\n",
       "      <td>1533.95</td>\n",
       "    </tr>\n",
       "    <tr>\n",
       "      <th>1</th>\n",
       "      <td>Greeting From Earth: ZGAC Arts Capsule For ET</td>\n",
       "      <td>Narrative Film</td>\n",
       "      <td>Film &amp; Video</td>\n",
       "      <td>2017-11-01</td>\n",
       "      <td>2017-09-02 04:43:57</td>\n",
       "      <td>failed</td>\n",
       "      <td>US</td>\n",
       "      <td>2421.0</td>\n",
       "      <td>30000.00</td>\n",
       "    </tr>\n",
       "    <tr>\n",
       "      <th>2</th>\n",
       "      <td>Where is Hank?</td>\n",
       "      <td>Narrative Film</td>\n",
       "      <td>Film &amp; Video</td>\n",
       "      <td>2013-02-26</td>\n",
       "      <td>2013-01-12 00:20:50</td>\n",
       "      <td>failed</td>\n",
       "      <td>US</td>\n",
       "      <td>220.0</td>\n",
       "      <td>45000.00</td>\n",
       "    </tr>\n",
       "  </tbody>\n",
       "</table>\n",
       "</div>"
      ],
      "text/plain": [
       "                                            name        category  \\\n",
       "0                The Songs of Adelaide & Abullah          Poetry   \n",
       "1  Greeting From Earth: ZGAC Arts Capsule For ET  Narrative Film   \n",
       "2                                 Where is Hank?  Narrative Film   \n",
       "\n",
       "  main_category    deadline             launched   state country  \\\n",
       "0    Publishing  2015-10-09  2015-08-11 12:12:28  failed      GB   \n",
       "1  Film & Video  2017-11-01  2017-09-02 04:43:57  failed      US   \n",
       "2  Film & Video  2013-02-26  2013-01-12 00:20:50  failed      US   \n",
       "\n",
       "   usd_pledged_real  usd_goal_real  \n",
       "0               0.0        1533.95  \n",
       "1            2421.0       30000.00  \n",
       "2             220.0       45000.00  "
      ]
     },
     "execution_count": 154,
     "metadata": {},
     "output_type": "execute_result"
    }
   ],
   "source": [
    "df.head(3)"
   ]
  },
  {
   "cell_type": "markdown",
   "metadata": {},
   "source": [
    "## Drop Unnecessary rows\n",
    "TODO: explain..."
   ]
  },
  {
   "cell_type": "code",
   "execution_count": 155,
   "metadata": {},
   "outputs": [],
   "source": [
    "# Drop live projects\n",
    "df = df.query('state != \"live\"')\n",
    "\n",
    "# Drop project with ' N,0\" ' country\n",
    "df = df.query(\"country != 'N,0\\\"' \")"
   ]
  },
  {
   "cell_type": "markdown",
   "metadata": {},
   "source": [
    "TODO: change it...\n",
    "When examine the dataset, we paid attention that there are few rows that their launchdate was wrong."
   ]
  },
  {
   "cell_type": "code",
   "execution_count": 156,
   "metadata": {},
   "outputs": [
    {
     "data": {
      "text/html": [
       "<div>\n",
       "<style scoped>\n",
       "    .dataframe tbody tr th:only-of-type {\n",
       "        vertical-align: middle;\n",
       "    }\n",
       "\n",
       "    .dataframe tbody tr th {\n",
       "        vertical-align: top;\n",
       "    }\n",
       "\n",
       "    .dataframe thead th {\n",
       "        text-align: right;\n",
       "    }\n",
       "</style>\n",
       "<table border=\"1\" class=\"dataframe\">\n",
       "  <thead>\n",
       "    <tr style=\"text-align: right;\">\n",
       "      <th></th>\n",
       "      <th>name</th>\n",
       "      <th>deadline</th>\n",
       "      <th>launched</th>\n",
       "    </tr>\n",
       "  </thead>\n",
       "  <tbody>\n",
       "    <tr>\n",
       "      <th>2842</th>\n",
       "      <td>Salt of the Earth: A Dead Sea Movie (Canceled)</td>\n",
       "      <td>2010-09-15</td>\n",
       "      <td>1970-01-01</td>\n",
       "    </tr>\n",
       "    <tr>\n",
       "      <th>48147</th>\n",
       "      <td>1st Super-Size Painting - Social Network Owned...</td>\n",
       "      <td>2010-08-14</td>\n",
       "      <td>1970-01-01</td>\n",
       "    </tr>\n",
       "    <tr>\n",
       "      <th>75397</th>\n",
       "      <td>\"ICHOR\"  (Canceled)</td>\n",
       "      <td>2010-05-21</td>\n",
       "      <td>1970-01-01</td>\n",
       "    </tr>\n",
       "    <tr>\n",
       "      <th>94579</th>\n",
       "      <td>Support Solo Theater! Help \"Ungrateful Daughte...</td>\n",
       "      <td>2010-06-01</td>\n",
       "      <td>1970-01-01</td>\n",
       "    </tr>\n",
       "    <tr>\n",
       "      <th>247913</th>\n",
       "      <td>Help RIZ Make A Charity Album: 8 Songs, 8 Caus...</td>\n",
       "      <td>2010-05-04</td>\n",
       "      <td>1970-01-01</td>\n",
       "    </tr>\n",
       "    <tr>\n",
       "      <th>273779</th>\n",
       "      <td>Identity Communications Infographic (Canceled)</td>\n",
       "      <td>2010-04-10</td>\n",
       "      <td>1970-01-01</td>\n",
       "    </tr>\n",
       "    <tr>\n",
       "      <th>319002</th>\n",
       "      <td>Student Auditions Music 2015</td>\n",
       "      <td>2015-10-31</td>\n",
       "      <td>1970-01-01</td>\n",
       "    </tr>\n",
       "    <tr>\n",
       "      <th>169268</th>\n",
       "      <td>Grace Jones Does Not Give A F$#% T-Shirt (limi...</td>\n",
       "      <td>2009-05-31</td>\n",
       "      <td>2009-04-21</td>\n",
       "    </tr>\n",
       "    <tr>\n",
       "      <th>322000</th>\n",
       "      <td>CRYSTAL ANTLERS UNTITLED MOVIE</td>\n",
       "      <td>2009-07-20</td>\n",
       "      <td>2009-04-23</td>\n",
       "    </tr>\n",
       "    <tr>\n",
       "      <th>138572</th>\n",
       "      <td>drawing for dollars</td>\n",
       "      <td>2009-05-03</td>\n",
       "      <td>2009-04-24</td>\n",
       "    </tr>\n",
       "  </tbody>\n",
       "</table>\n",
       "</div>"
      ],
      "text/plain": [
       "                                                     name   deadline  \\\n",
       "2842       Salt of the Earth: A Dead Sea Movie (Canceled) 2010-09-15   \n",
       "48147   1st Super-Size Painting - Social Network Owned... 2010-08-14   \n",
       "75397                                 \"ICHOR\"  (Canceled) 2010-05-21   \n",
       "94579   Support Solo Theater! Help \"Ungrateful Daughte... 2010-06-01   \n",
       "247913  Help RIZ Make A Charity Album: 8 Songs, 8 Caus... 2010-05-04   \n",
       "273779     Identity Communications Infographic (Canceled) 2010-04-10   \n",
       "319002                       Student Auditions Music 2015 2015-10-31   \n",
       "169268  Grace Jones Does Not Give A F$#% T-Shirt (limi... 2009-05-31   \n",
       "322000                     CRYSTAL ANTLERS UNTITLED MOVIE 2009-07-20   \n",
       "138572                                drawing for dollars 2009-05-03   \n",
       "\n",
       "         launched  \n",
       "2842   1970-01-01  \n",
       "48147  1970-01-01  \n",
       "75397  1970-01-01  \n",
       "94579  1970-01-01  \n",
       "247913 1970-01-01  \n",
       "273779 1970-01-01  \n",
       "319002 1970-01-01  \n",
       "169268 2009-04-21  \n",
       "322000 2009-04-23  \n",
       "138572 2009-04-24  "
      ]
     },
     "execution_count": 156,
     "metadata": {},
     "output_type": "execute_result"
    }
   ],
   "source": [
    "df['deadline'] = pd.to_datetime(df['deadline'])\n",
    "df['launched'] = pd.to_datetime(df['launched']).dt.normalize()\n",
    "\n",
    "df[['name','deadline','launched']].nsmallest(10, 'launched')"
   ]
  },
  {
   "cell_type": "markdown",
   "metadata": {},
   "source": [
    "Let's remove them."
   ]
  },
  {
   "cell_type": "code",
   "execution_count": 157,
   "metadata": {},
   "outputs": [],
   "source": [
    "df = df.query('launched > \"2008-01-01\"')"
   ]
  },
  {
   "cell_type": "markdown",
   "metadata": {},
   "source": [
    "## Impute missing values\n",
    "\n",
    "We want to see how many missing values we have - complete them, or ignore this rows.\n",
    "We found we have only 4 rows with missing values so we remove them."
   ]
  },
  {
   "cell_type": "code",
   "execution_count": 158,
   "metadata": {},
   "outputs": [
    {
     "name": "stdout",
     "output_type": "stream",
     "text": [
      "name                4\n",
      "category            0\n",
      "main_category       0\n",
      "deadline            0\n",
      "launched            0\n",
      "state               0\n",
      "country             0\n",
      "usd_pledged_real    0\n",
      "usd_goal_real       0\n",
      "dtype: int64\n",
      "4\n"
     ]
    }
   ],
   "source": [
    "# get the number of missing data points per column\n",
    "missing_values_count = df.isnull().sum()\n",
    "# look at the # of missing points in the first ten columns\n",
    "print(missing_values_count[0:23])\n",
    "# how many total missing values do we have?\n",
    "total_cells = np.product(df.shape)\n",
    "total_missing = missing_values_count.sum()\n",
    "print(total_missing)"
   ]
  },
  {
   "cell_type": "code",
   "execution_count": 159,
   "metadata": {},
   "outputs": [],
   "source": [
    "# remove all columns with at least one missing value\n",
    "df = df.dropna()"
   ]
  },
  {
   "cell_type": "markdown",
   "metadata": {},
   "source": [
    "## Insert New Columns"
   ]
  },
  {
   "cell_type": "markdown",
   "metadata": {},
   "source": [
    "First, we want to add a 'Duration' column"
   ]
  },
  {
   "cell_type": "code",
   "execution_count": 160,
   "metadata": {},
   "outputs": [],
   "source": [
    "df['duration'] = pd.to_datetime(df['deadline'], )-pd.to_datetime(df['launched']).dt.normalize()"
   ]
  },
  {
   "cell_type": "markdown",
   "metadata": {},
   "source": [
    "## Convert Columns #TODO: happened before..."
   ]
  },
  {
   "cell_type": "code",
   "execution_count": 161,
   "metadata": {},
   "outputs": [
    {
     "data": {
      "text/html": [
       "<div>\n",
       "<style scoped>\n",
       "    .dataframe tbody tr th:only-of-type {\n",
       "        vertical-align: middle;\n",
       "    }\n",
       "\n",
       "    .dataframe tbody tr th {\n",
       "        vertical-align: top;\n",
       "    }\n",
       "\n",
       "    .dataframe thead th {\n",
       "        text-align: right;\n",
       "    }\n",
       "</style>\n",
       "<table border=\"1\" class=\"dataframe\">\n",
       "  <thead>\n",
       "    <tr style=\"text-align: right;\">\n",
       "      <th></th>\n",
       "      <th>name</th>\n",
       "      <th>category</th>\n",
       "      <th>main_category</th>\n",
       "      <th>deadline</th>\n",
       "      <th>launched</th>\n",
       "      <th>state</th>\n",
       "      <th>country</th>\n",
       "      <th>usd_pledged_real</th>\n",
       "      <th>usd_goal_real</th>\n",
       "      <th>duration</th>\n",
       "    </tr>\n",
       "  </thead>\n",
       "  <tbody>\n",
       "    <tr>\n",
       "      <th>0</th>\n",
       "      <td>The Songs of Adelaide &amp; Abullah</td>\n",
       "      <td>Poetry</td>\n",
       "      <td>Publishing</td>\n",
       "      <td>2015-10-09</td>\n",
       "      <td>2015-08-11</td>\n",
       "      <td>failed</td>\n",
       "      <td>GB</td>\n",
       "      <td>0.0</td>\n",
       "      <td>1533.95</td>\n",
       "      <td>59 days</td>\n",
       "    </tr>\n",
       "    <tr>\n",
       "      <th>1</th>\n",
       "      <td>Greeting From Earth: ZGAC Arts Capsule For ET</td>\n",
       "      <td>Narrative Film</td>\n",
       "      <td>Film &amp; Video</td>\n",
       "      <td>2017-11-01</td>\n",
       "      <td>2017-09-02</td>\n",
       "      <td>failed</td>\n",
       "      <td>US</td>\n",
       "      <td>2421.0</td>\n",
       "      <td>30000.00</td>\n",
       "      <td>60 days</td>\n",
       "    </tr>\n",
       "    <tr>\n",
       "      <th>2</th>\n",
       "      <td>Where is Hank?</td>\n",
       "      <td>Narrative Film</td>\n",
       "      <td>Film &amp; Video</td>\n",
       "      <td>2013-02-26</td>\n",
       "      <td>2013-01-12</td>\n",
       "      <td>failed</td>\n",
       "      <td>US</td>\n",
       "      <td>220.0</td>\n",
       "      <td>45000.00</td>\n",
       "      <td>45 days</td>\n",
       "    </tr>\n",
       "    <tr>\n",
       "      <th>3</th>\n",
       "      <td>ToshiCapital Rekordz Needs Help to Complete Album</td>\n",
       "      <td>Music</td>\n",
       "      <td>Music</td>\n",
       "      <td>2012-04-16</td>\n",
       "      <td>2012-03-17</td>\n",
       "      <td>failed</td>\n",
       "      <td>US</td>\n",
       "      <td>1.0</td>\n",
       "      <td>5000.00</td>\n",
       "      <td>30 days</td>\n",
       "    </tr>\n",
       "    <tr>\n",
       "      <th>4</th>\n",
       "      <td>Community Film Project: The Art of Neighborhoo...</td>\n",
       "      <td>Film &amp; Video</td>\n",
       "      <td>Film &amp; Video</td>\n",
       "      <td>2015-08-29</td>\n",
       "      <td>2015-07-04</td>\n",
       "      <td>canceled</td>\n",
       "      <td>US</td>\n",
       "      <td>1283.0</td>\n",
       "      <td>19500.00</td>\n",
       "      <td>56 days</td>\n",
       "    </tr>\n",
       "  </tbody>\n",
       "</table>\n",
       "</div>"
      ],
      "text/plain": [
       "                                                name        category  \\\n",
       "0                    The Songs of Adelaide & Abullah          Poetry   \n",
       "1      Greeting From Earth: ZGAC Arts Capsule For ET  Narrative Film   \n",
       "2                                     Where is Hank?  Narrative Film   \n",
       "3  ToshiCapital Rekordz Needs Help to Complete Album           Music   \n",
       "4  Community Film Project: The Art of Neighborhoo...    Film & Video   \n",
       "\n",
       "  main_category   deadline   launched     state country  usd_pledged_real  \\\n",
       "0    Publishing 2015-10-09 2015-08-11    failed      GB               0.0   \n",
       "1  Film & Video 2017-11-01 2017-09-02    failed      US            2421.0   \n",
       "2  Film & Video 2013-02-26 2013-01-12    failed      US             220.0   \n",
       "3         Music 2012-04-16 2012-03-17    failed      US               1.0   \n",
       "4  Film & Video 2015-08-29 2015-07-04  canceled      US            1283.0   \n",
       "\n",
       "   usd_goal_real duration  \n",
       "0        1533.95  59 days  \n",
       "1       30000.00  60 days  \n",
       "2       45000.00  45 days  \n",
       "3        5000.00  30 days  \n",
       "4       19500.00  56 days  "
      ]
     },
     "execution_count": 161,
     "metadata": {},
     "output_type": "execute_result"
    }
   ],
   "source": [
    "df['deadline'] = pd.to_datetime(df['deadline'])\n",
    "df['launched'] = pd.to_datetime(df['launched']).dt.normalize()\n",
    "df.head(5)"
   ]
  },
  {
   "cell_type": "markdown",
   "metadata": {},
   "source": [
    "## Integrate with outsource DataSets\n",
    "TODO: explain about the dataset\n",
    "\n",
    "countries translation"
   ]
  },
  {
   "cell_type": "code",
   "execution_count": 162,
   "metadata": {},
   "outputs": [
    {
     "name": "stdout",
     "output_type": "stream",
     "text": [
      "['GB', 'US', 'CA', 'AU', 'NO', 'IT', 'DE', 'IE', 'MX', 'ES', 'SE', 'FR', 'NL', 'NZ', 'CH', 'AT', 'DK', 'BE', 'HK', 'LU', 'SG', 'JP']\n",
      "['Australia', 'Austria', 'Belgium', 'Canada', 'Denmark', 'France', 'Germany', 'Hong Kong', 'Ireland', 'Italy', 'Japan', 'Luxembourg', 'Mexico', 'Netherlands', 'New Zealand', 'Norway', 'Singapore', 'Spain', 'Sweden', 'Switzerland', 'United Kingdom', 'United States']\n"
     ]
    }
   ],
   "source": [
    "countries = pd.unique(df.country)\n",
    "countries_list = list(countries)\n",
    "print(countries_list)\n",
    "countries_names = coco.convert(names=countries_list, to='name_short')\n",
    "l = sorted(countries_names, key=lambda L: (L.lower(), L))\n",
    "print(l)"
   ]
  },
  {
   "cell_type": "markdown",
   "metadata": {},
   "source": [
    "TODO: explain add the dataset...\n",
    "\n",
    "Warning: heavy function"
   ]
  },
  {
   "cell_type": "code",
   "execution_count": 163,
   "metadata": {},
   "outputs": [
    {
     "data": {
      "text/html": [
       "<div>\n",
       "<style scoped>\n",
       "    .dataframe tbody tr th:only-of-type {\n",
       "        vertical-align: middle;\n",
       "    }\n",
       "\n",
       "    .dataframe tbody tr th {\n",
       "        vertical-align: top;\n",
       "    }\n",
       "\n",
       "    .dataframe thead th {\n",
       "        text-align: right;\n",
       "    }\n",
       "</style>\n",
       "<table border=\"1\" class=\"dataframe\">\n",
       "  <thead>\n",
       "    <tr style=\"text-align: right;\">\n",
       "      <th></th>\n",
       "      <th>name</th>\n",
       "      <th>category</th>\n",
       "      <th>main_category</th>\n",
       "      <th>deadline</th>\n",
       "      <th>launched</th>\n",
       "      <th>state</th>\n",
       "      <th>country</th>\n",
       "      <th>usd_pledged_real</th>\n",
       "      <th>usd_goal_real</th>\n",
       "      <th>duration</th>\n",
       "    </tr>\n",
       "  </thead>\n",
       "  <tbody>\n",
       "    <tr>\n",
       "      <th>0</th>\n",
       "      <td>The Songs of Adelaide &amp; Abullah</td>\n",
       "      <td>Poetry</td>\n",
       "      <td>Publishing</td>\n",
       "      <td>2015-10-09</td>\n",
       "      <td>2015-08-11</td>\n",
       "      <td>failed</td>\n",
       "      <td>GB</td>\n",
       "      <td>0.0</td>\n",
       "      <td>1533.95</td>\n",
       "      <td>59 days</td>\n",
       "    </tr>\n",
       "    <tr>\n",
       "      <th>1</th>\n",
       "      <td>Greeting From Earth: ZGAC Arts Capsule For ET</td>\n",
       "      <td>Narrative Film</td>\n",
       "      <td>Film &amp; Video</td>\n",
       "      <td>2017-11-01</td>\n",
       "      <td>2017-09-02</td>\n",
       "      <td>failed</td>\n",
       "      <td>US</td>\n",
       "      <td>2421.0</td>\n",
       "      <td>30000.00</td>\n",
       "      <td>60 days</td>\n",
       "    </tr>\n",
       "    <tr>\n",
       "      <th>2</th>\n",
       "      <td>Where is Hank?</td>\n",
       "      <td>Narrative Film</td>\n",
       "      <td>Film &amp; Video</td>\n",
       "      <td>2013-02-26</td>\n",
       "      <td>2013-01-12</td>\n",
       "      <td>failed</td>\n",
       "      <td>US</td>\n",
       "      <td>220.0</td>\n",
       "      <td>45000.00</td>\n",
       "      <td>45 days</td>\n",
       "    </tr>\n",
       "    <tr>\n",
       "      <th>3</th>\n",
       "      <td>ToshiCapital Rekordz Needs Help to Complete Album</td>\n",
       "      <td>Music</td>\n",
       "      <td>Music</td>\n",
       "      <td>2012-04-16</td>\n",
       "      <td>2012-03-17</td>\n",
       "      <td>failed</td>\n",
       "      <td>US</td>\n",
       "      <td>1.0</td>\n",
       "      <td>5000.00</td>\n",
       "      <td>30 days</td>\n",
       "    </tr>\n",
       "    <tr>\n",
       "      <th>4</th>\n",
       "      <td>Community Film Project: The Art of Neighborhoo...</td>\n",
       "      <td>Film &amp; Video</td>\n",
       "      <td>Film &amp; Video</td>\n",
       "      <td>2015-08-29</td>\n",
       "      <td>2015-07-04</td>\n",
       "      <td>canceled</td>\n",
       "      <td>US</td>\n",
       "      <td>1283.0</td>\n",
       "      <td>19500.00</td>\n",
       "      <td>56 days</td>\n",
       "    </tr>\n",
       "  </tbody>\n",
       "</table>\n",
       "</div>"
      ],
      "text/plain": [
       "                                                name        category  \\\n",
       "0                    The Songs of Adelaide & Abullah          Poetry   \n",
       "1      Greeting From Earth: ZGAC Arts Capsule For ET  Narrative Film   \n",
       "2                                     Where is Hank?  Narrative Film   \n",
       "3  ToshiCapital Rekordz Needs Help to Complete Album           Music   \n",
       "4  Community Film Project: The Art of Neighborhoo...    Film & Video   \n",
       "\n",
       "  main_category   deadline   launched     state country  usd_pledged_real  \\\n",
       "0    Publishing 2015-10-09 2015-08-11    failed      GB               0.0   \n",
       "1  Film & Video 2017-11-01 2017-09-02    failed      US            2421.0   \n",
       "2  Film & Video 2013-02-26 2013-01-12    failed      US             220.0   \n",
       "3         Music 2012-04-16 2012-03-17    failed      US               1.0   \n",
       "4  Film & Video 2015-08-29 2015-07-04  canceled      US            1283.0   \n",
       "\n",
       "   usd_goal_real duration  \n",
       "0        1533.95  59 days  \n",
       "1       30000.00  60 days  \n",
       "2       45000.00  45 days  \n",
       "3        5000.00  30 days  \n",
       "4       19500.00  56 days  "
      ]
     },
     "execution_count": 163,
     "metadata": {},
     "output_type": "execute_result"
    }
   ],
   "source": [
    "countries_GDP = pd.read_csv(\"ks_countries_gdp.csv\")\n",
    "countries_GDP.columns\n",
    "countries_GDP_dict = pd.Series(countries_GDP['GDP ($ per capita)'].values,countries_GDP.Country).to_dict()\n",
    "#print(countries_GDP_dict)\n",
    "\n",
    "def label_GDP(row):\n",
    "    l = []\n",
    "    l.append(row['country'])\n",
    "    country = coco.convert(names=l,to='name_short')\n",
    "    return countries_GDP_dict[country+\" \"]\n",
    "\n",
    "\n",
    "#df['country_GDP'] = df.apply(lambda row: label_GDP(row), axis=1)\n",
    "df.head(5)"
   ]
  },
  {
   "cell_type": "markdown",
   "metadata": {},
   "source": [
    "## Specifying Data Types"
   ]
  },
  {
   "cell_type": "code",
   "execution_count": 164,
   "metadata": {},
   "outputs": [],
   "source": [
    "#binary_variables = ['class']\n",
    "categorical_variables = ['category', 'main_category', 'state', 'country']\n",
    "numeric_variables = ['usd_pledged_real','usd_goal_real']\n",
    "date_time_variables = ['deadline','launched','duration']"
   ]
  },
  {
   "cell_type": "markdown",
   "metadata": {},
   "source": [
    "## Type Conversion"
   ]
  },
  {
   "cell_type": "code",
   "execution_count": 165,
   "metadata": {},
   "outputs": [],
   "source": [
    "#TODO: Specifying Data Types, Type Conversion, Categorical and Binary Variables to String"
   ]
  },
  {
   "cell_type": "code",
   "execution_count": 166,
   "metadata": {},
   "outputs": [
    {
     "data": {
      "text/plain": [
       "category         object\n",
       "main_category    object\n",
       "state            object\n",
       "country          object\n",
       "dtype: object"
      ]
     },
     "execution_count": 166,
     "metadata": {},
     "output_type": "execute_result"
    }
   ],
   "source": [
    "df[categorical_variables].dtypes"
   ]
  },
  {
   "cell_type": "code",
   "execution_count": 167,
   "metadata": {},
   "outputs": [
    {
     "data": {
      "text/plain": [
       "usd_pledged_real    float64\n",
       "usd_goal_real       float64\n",
       "dtype: object"
      ]
     },
     "execution_count": 167,
     "metadata": {},
     "output_type": "execute_result"
    }
   ],
   "source": [
    "df[numeric_variables].dtypes"
   ]
  },
  {
   "cell_type": "code",
   "execution_count": 168,
   "metadata": {},
   "outputs": [
    {
     "data": {
      "text/plain": [
       "deadline     datetime64[ns]\n",
       "launched     datetime64[ns]\n",
       "duration    timedelta64[ns]\n",
       "dtype: object"
      ]
     },
     "execution_count": 168,
     "metadata": {},
     "output_type": "execute_result"
    }
   ],
   "source": [
    "df[date_time_variables].dtypes"
   ]
  },
  {
   "cell_type": "markdown",
   "metadata": {},
   "source": [
    "## Remove Whitespaces"
   ]
  },
  {
   "cell_type": "code",
   "execution_count": 169,
   "metadata": {},
   "outputs": [],
   "source": [
    "# Map(func,sequence) -  operates a function on a sequence\n",
    "# Lambda var1,var2.. : Expression -  Creates an inline function\n",
    "for variable in categorical_variables:\n",
    "    df[variable] = df[variable].map(lambda x : x.strip())"
   ]
  },
  {
   "cell_type": "markdown",
   "metadata": {},
   "source": [
    "## Binarize State label"
   ]
  },
  {
   "cell_type": "code",
   "execution_count": 170,
   "metadata": {},
   "outputs": [],
   "source": [
    "df['state'] = df['state'].map(lambda x : '1' if x == 'successful' else '0')"
   ]
  },
  {
   "cell_type": "markdown",
   "metadata": {},
   "source": [
    "## Data Statistics"
   ]
  },
  {
   "cell_type": "code",
   "execution_count": 171,
   "metadata": {},
   "outputs": [
    {
     "data": {
      "text/html": [
       "<div>\n",
       "<style scoped>\n",
       "    .dataframe tbody tr th:only-of-type {\n",
       "        vertical-align: middle;\n",
       "    }\n",
       "\n",
       "    .dataframe tbody tr th {\n",
       "        vertical-align: top;\n",
       "    }\n",
       "\n",
       "    .dataframe thead th {\n",
       "        text-align: right;\n",
       "    }\n",
       "</style>\n",
       "<table border=\"1\" class=\"dataframe\">\n",
       "  <thead>\n",
       "    <tr style=\"text-align: right;\">\n",
       "      <th></th>\n",
       "      <th>usd_pledged_real</th>\n",
       "      <th>usd_goal_real</th>\n",
       "      <th>duration</th>\n",
       "    </tr>\n",
       "  </thead>\n",
       "  <tbody>\n",
       "    <tr>\n",
       "      <th>count</th>\n",
       "      <td>3.720550e+05</td>\n",
       "      <td>3.720550e+05</td>\n",
       "      <td>372055</td>\n",
       "    </tr>\n",
       "    <tr>\n",
       "      <th>mean</th>\n",
       "      <td>9.145509e+03</td>\n",
       "      <td>4.573831e+04</td>\n",
       "      <td>34 days 04:12:09.840480</td>\n",
       "    </tr>\n",
       "    <tr>\n",
       "      <th>std</th>\n",
       "      <td>9.162231e+04</td>\n",
       "      <td>1.151699e+06</td>\n",
       "      <td>12 days 19:02:33.006067</td>\n",
       "    </tr>\n",
       "    <tr>\n",
       "      <th>min</th>\n",
       "      <td>0.000000e+00</td>\n",
       "      <td>1.000000e-02</td>\n",
       "      <td>1 days 00:00:00</td>\n",
       "    </tr>\n",
       "    <tr>\n",
       "      <th>25%</th>\n",
       "      <td>3.125000e+01</td>\n",
       "      <td>2.000000e+03</td>\n",
       "      <td>30 days 00:00:00</td>\n",
       "    </tr>\n",
       "    <tr>\n",
       "      <th>50%</th>\n",
       "      <td>6.279700e+02</td>\n",
       "      <td>5.500000e+03</td>\n",
       "      <td>30 days 00:00:00</td>\n",
       "    </tr>\n",
       "    <tr>\n",
       "      <th>75%</th>\n",
       "      <td>4.066000e+03</td>\n",
       "      <td>1.600000e+04</td>\n",
       "      <td>37 days 00:00:00</td>\n",
       "    </tr>\n",
       "    <tr>\n",
       "      <th>max</th>\n",
       "      <td>2.033899e+07</td>\n",
       "      <td>1.663614e+08</td>\n",
       "      <td>92 days 00:00:00</td>\n",
       "    </tr>\n",
       "  </tbody>\n",
       "</table>\n",
       "</div>"
      ],
      "text/plain": [
       "       usd_pledged_real  usd_goal_real                 duration\n",
       "count      3.720550e+05   3.720550e+05                   372055\n",
       "mean       9.145509e+03   4.573831e+04  34 days 04:12:09.840480\n",
       "std        9.162231e+04   1.151699e+06  12 days 19:02:33.006067\n",
       "min        0.000000e+00   1.000000e-02          1 days 00:00:00\n",
       "25%        3.125000e+01   2.000000e+03         30 days 00:00:00\n",
       "50%        6.279700e+02   5.500000e+03         30 days 00:00:00\n",
       "75%        4.066000e+03   1.600000e+04         37 days 00:00:00\n",
       "max        2.033899e+07   1.663614e+08         92 days 00:00:00"
      ]
     },
     "execution_count": 171,
     "metadata": {},
     "output_type": "execute_result"
    }
   ],
   "source": [
    "df.describe()\n",
    "\n",
    "##TODO: need to remove the huge duration..."
   ]
  },
  {
   "cell_type": "code",
   "execution_count": 172,
   "metadata": {},
   "outputs": [
    {
     "data": {
      "image/png": "[encoded data removed]",
      "text/plain": [
       "<Figure size 1152x1152 with 4 Axes>"
      ]
     },
     "metadata": {
      "needs_background": "light"
     },
     "output_type": "display_data"
    }
   ],
   "source": [
    "fig, axes = plt.subplots(2,2,figsize=(16,16))\n",
    "fig.subplots_adjust(hspace=0.5)\n",
    "i=0\n",
    "n=len(categorical_variables)\n",
    "for variable in categorical_variables:\n",
    "    r=int(i/2)\n",
    "    c=i%2\n",
    "    i+=1\n",
    "    u=min(len(df[variable].unique()),8)\n",
    "    df[variable].value_counts()[:u].plot(kind='bar',ax=axes[r,c],title=variable)"
   ]
  },
  {
   "cell_type": "markdown",
   "metadata": {},
   "source": [
    "## Class Distribution"
   ]
  },
  {
   "cell_type": "code",
   "execution_count": 173,
   "metadata": {},
   "outputs": [
    {
     "name": "stdout",
     "output_type": "stream",
     "text": [
      "0    238204\n",
      "1    133851\n",
      "Name: state, dtype: int64\n",
      "0    0.640239\n",
      "1    0.359761\n",
      "Name: state, dtype: float64\n"
     ]
    }
   ],
   "source": [
    "print (df['state'].value_counts())\n",
    "print (df['state'].value_counts(normalize='True'))"
   ]
  },
  {
   "cell_type": "code",
   "execution_count": 174,
   "metadata": {},
   "outputs": [
    {
     "data": {
      "image/png": "[encoded data removed]",
      "text/plain": [
       "<Figure size 432x288 with 1 Axes>"
      ]
     },
     "metadata": {
      "needs_background": "light"
     },
     "output_type": "display_data"
    }
   ],
   "source": [
    "%matplotlib inline\n",
    "sns.distplot(df['duration'].dt.days, bins = 25, kde = False).set(xlim=(0, 100))\n",
    "plt.title('Histogram of Duration')\n",
    "plt.xlabel('Duration in days')\n",
    "plt.ylabel('Count')\n",
    "plt.show()"
   ]
  },
  {
   "cell_type": "code",
   "execution_count": 175,
   "metadata": {},
   "outputs": [
    {
     "data": {
      "image/png": "[encoded data removed]",
      "text/plain": [
       "<Figure size 432x288 with 1 Axes>"
      ]
     },
     "metadata": {
      "needs_background": "light"
     },
     "output_type": "display_data"
    }
   ],
   "source": [
    "%matplotlib inline\n",
    "sns.distplot(np.log1p(df['usd_goal_real']), bins = 35, kde = False)\n",
    "plt.title('Histogram of Goal')\n",
    "plt.xlabel('Goal in us dollars')\n",
    "plt.ylabel('Count')\n",
    "plt.show()"
   ]
  },
  {
   "cell_type": "markdown",
   "metadata": {},
   "source": [
    "## Analyzing 'name' column - DRAFT!!!"
   ]
  },
  {
   "cell_type": "markdown",
   "metadata": {},
   "source": [
    "We noticed more then 20k rows contains '(Canceled)' in their name.\n",
    "Probably was changed by the owners after cancelling the project and opening a new one.\n",
    "TODO: explain..."
   ]
  },
  {
   "cell_type": "code",
   "execution_count": 176,
   "metadata": {},
   "outputs": [
    {
     "data": {
      "text/plain": [
       "The           61774\n",
       "-             53415\n",
       "the           33698\n",
       "of            32988\n",
       "A             28526\n",
       "and           23428\n",
       "(Canceled)    23093\n",
       "a             20532\n",
       "for           19618\n",
       "&             17578\n",
       "dtype: int64"
      ]
     },
     "execution_count": 176,
     "metadata": {},
     "output_type": "execute_result"
    }
   ],
   "source": [
    "freq = pd.Series(' '.join(df['name']).split()).value_counts()[:10]\n",
    "freq"
   ]
  },
  {
   "cell_type": "markdown",
   "metadata": {},
   "source": [
    "Let's remove this \"clue\"."
   ]
  },
  {
   "cell_type": "code",
   "execution_count": 177,
   "metadata": {},
   "outputs": [
    {
     "data": {
      "text/plain": [
       "The    61774\n",
       "-      53415\n",
       "the    33698\n",
       "of     32988\n",
       "A      28526\n",
       "and    23428\n",
       "a      20532\n",
       "for    19618\n",
       "&      17578\n",
       "to     16640\n",
       "dtype: int64"
      ]
     },
     "execution_count": 177,
     "metadata": {},
     "output_type": "execute_result"
    }
   ],
   "source": [
    "df['name']= df['name'].str.replace(\"\\(Canceled\\)\",\"\")\n",
    "freq = pd.Series(' '.join(df['name']).split()).value_counts()[:10]\n",
    "freq"
   ]
  },
  {
   "cell_type": "code",
   "execution_count": 178,
   "metadata": {},
   "outputs": [],
   "source": [
    "sub_df = df\n",
    "sub_df = sub_df.drop('category', axis = 1)\n",
    "sub_df = sub_df.drop('main_category', axis = 1)\n",
    "sub_df = sub_df.drop('deadline', axis = 1)\n",
    "sub_df = sub_df.drop('launched', axis = 1)\n",
    "sub_df = sub_df.drop('state', axis = 1)\n",
    "sub_df = sub_df.drop('usd_pledged_real', axis = 1)\n",
    "sub_df = sub_df.drop('usd_goal_real', axis = 1)\n",
    "sub_df = sub_df.drop('duration', axis = 1)\n",
    "sub_df = sub_df.drop('country', axis = 1)"
   ]
  },
  {
   "cell_type": "code",
   "execution_count": 179,
   "metadata": {},
   "outputs": [
    {
     "data": {
      "text/plain": [
       "Index(['name'], dtype='object')"
      ]
     },
     "execution_count": 179,
     "metadata": {},
     "output_type": "execute_result"
    }
   ],
   "source": [
    "sub_df.sample(10)\n",
    "sub_df.columns"
   ]
  },
  {
   "cell_type": "code",
   "execution_count": 180,
   "metadata": {},
   "outputs": [],
   "source": [
    "sub_df['char_count'] = sub_df['name'].str.len() ## this also includes spaces\n",
    "#sub_df[['name','char_count']].head()"
   ]
  },
  {
   "cell_type": "code",
   "execution_count": 182,
   "metadata": {},
   "outputs": [
    {
     "data": {
      "text/html": [
       "<div>\n",
       "<style scoped>\n",
       "    .dataframe tbody tr th:only-of-type {\n",
       "        vertical-align: middle;\n",
       "    }\n",
       "\n",
       "    .dataframe tbody tr th {\n",
       "        vertical-align: top;\n",
       "    }\n",
       "\n",
       "    .dataframe thead th {\n",
       "        text-align: right;\n",
       "    }\n",
       "</style>\n",
       "<table border=\"1\" class=\"dataframe\">\n",
       "  <thead>\n",
       "    <tr style=\"text-align: right;\">\n",
       "      <th></th>\n",
       "      <th>name</th>\n",
       "      <th>char_count</th>\n",
       "      <th>avg_word</th>\n",
       "    </tr>\n",
       "  </thead>\n",
       "  <tbody>\n",
       "    <tr>\n",
       "      <th>0</th>\n",
       "      <td>The Songs of Adelaide &amp; Abullah</td>\n",
       "      <td>31</td>\n",
       "      <td>4.333333</td>\n",
       "    </tr>\n",
       "    <tr>\n",
       "      <th>1</th>\n",
       "      <td>Greeting From Earth: ZGAC Arts Capsule For ET</td>\n",
       "      <td>45</td>\n",
       "      <td>4.750000</td>\n",
       "    </tr>\n",
       "    <tr>\n",
       "      <th>2</th>\n",
       "      <td>Where is Hank?</td>\n",
       "      <td>14</td>\n",
       "      <td>4.000000</td>\n",
       "    </tr>\n",
       "    <tr>\n",
       "      <th>3</th>\n",
       "      <td>ToshiCapital Rekordz Needs Help to Complete Album</td>\n",
       "      <td>49</td>\n",
       "      <td>6.142857</td>\n",
       "    </tr>\n",
       "    <tr>\n",
       "      <th>4</th>\n",
       "      <td>Community Film Project: The Art of Neighborhoo...</td>\n",
       "      <td>58</td>\n",
       "      <td>6.375000</td>\n",
       "    </tr>\n",
       "  </tbody>\n",
       "</table>\n",
       "</div>"
      ],
      "text/plain": [
       "                                                name  char_count  avg_word\n",
       "0                    The Songs of Adelaide & Abullah          31  4.333333\n",
       "1      Greeting From Earth: ZGAC Arts Capsule For ET          45  4.750000\n",
       "2                                     Where is Hank?          14  4.000000\n",
       "3  ToshiCapital Rekordz Needs Help to Complete Album          49  6.142857\n",
       "4  Community Film Project: The Art of Neighborhoo...          58  6.375000"
      ]
     },
     "execution_count": 182,
     "metadata": {},
     "output_type": "execute_result"
    }
   ],
   "source": [
    "def avg_word(sentence):\n",
    "  words = sentence.split()\n",
    "  if (len(words)==0):\n",
    "        return 0\n",
    "  return (sum(len(word) for word in words)/len(words))\n",
    "\n",
    "sub_df['avg_word'] = sub_df['name'].apply(lambda x: avg_word(x))\n",
    "sub_df[['name','char_count','avg_word']].head()"
   ]
  },
  {
   "cell_type": "code",
   "execution_count": 183,
   "metadata": {},
   "outputs": [
    {
     "data": {
      "text/html": [
       "<div>\n",
       "<style scoped>\n",
       "    .dataframe tbody tr th:only-of-type {\n",
       "        vertical-align: middle;\n",
       "    }\n",
       "\n",
       "    .dataframe tbody tr th {\n",
       "        vertical-align: top;\n",
       "    }\n",
       "\n",
       "    .dataframe thead th {\n",
       "        text-align: right;\n",
       "    }\n",
       "</style>\n",
       "<table border=\"1\" class=\"dataframe\">\n",
       "  <thead>\n",
       "    <tr style=\"text-align: right;\">\n",
       "      <th></th>\n",
       "      <th>name</th>\n",
       "      <th>stopwords</th>\n",
       "    </tr>\n",
       "  </thead>\n",
       "  <tbody>\n",
       "    <tr>\n",
       "      <th>0</th>\n",
       "      <td>The Songs of Adelaide &amp; Abullah</td>\n",
       "      <td>1</td>\n",
       "    </tr>\n",
       "    <tr>\n",
       "      <th>1</th>\n",
       "      <td>Greeting From Earth: ZGAC Arts Capsule For ET</td>\n",
       "      <td>0</td>\n",
       "    </tr>\n",
       "    <tr>\n",
       "      <th>2</th>\n",
       "      <td>Where is Hank?</td>\n",
       "      <td>1</td>\n",
       "    </tr>\n",
       "    <tr>\n",
       "      <th>3</th>\n",
       "      <td>ToshiCapital Rekordz Needs Help to Complete Album</td>\n",
       "      <td>1</td>\n",
       "    </tr>\n",
       "    <tr>\n",
       "      <th>4</th>\n",
       "      <td>Community Film Project: The Art of Neighborhoo...</td>\n",
       "      <td>1</td>\n",
       "    </tr>\n",
       "  </tbody>\n",
       "</table>\n",
       "</div>"
      ],
      "text/plain": [
       "                                                name  stopwords\n",
       "0                    The Songs of Adelaide & Abullah          1\n",
       "1      Greeting From Earth: ZGAC Arts Capsule For ET          0\n",
       "2                                     Where is Hank?          1\n",
       "3  ToshiCapital Rekordz Needs Help to Complete Album          1\n",
       "4  Community Film Project: The Art of Neighborhoo...          1"
      ]
     },
     "execution_count": 183,
     "metadata": {},
     "output_type": "execute_result"
    }
   ],
   "source": [
    "#from nltk.corpus import stopwords\n",
    "stop = stopwords.words('english')\n",
    "\n",
    "sub_df['stopwords'] = sub_df['name'].apply(lambda x: len([x for x in x.split() if x in stop]))\n",
    "sub_df[['name','stopwords']].head()"
   ]
  },
  {
   "cell_type": "code",
   "execution_count": 184,
   "metadata": {},
   "outputs": [
    {
     "data": {
      "text/html": [
       "<div>\n",
       "<style scoped>\n",
       "    .dataframe tbody tr th:only-of-type {\n",
       "        vertical-align: middle;\n",
       "    }\n",
       "\n",
       "    .dataframe tbody tr th {\n",
       "        vertical-align: top;\n",
       "    }\n",
       "\n",
       "    .dataframe thead th {\n",
       "        text-align: right;\n",
       "    }\n",
       "</style>\n",
       "<table border=\"1\" class=\"dataframe\">\n",
       "  <thead>\n",
       "    <tr style=\"text-align: right;\">\n",
       "      <th></th>\n",
       "      <th>name</th>\n",
       "      <th>char_count</th>\n",
       "      <th>avg_word</th>\n",
       "      <th>stopwords</th>\n",
       "    </tr>\n",
       "  </thead>\n",
       "  <tbody>\n",
       "    <tr>\n",
       "      <th>0</th>\n",
       "      <td>The Songs of Adelaide &amp; Abullah</td>\n",
       "      <td>31</td>\n",
       "      <td>4.333333</td>\n",
       "      <td>1</td>\n",
       "    </tr>\n",
       "    <tr>\n",
       "      <th>1</th>\n",
       "      <td>Greeting From Earth: ZGAC Arts Capsule For ET</td>\n",
       "      <td>45</td>\n",
       "      <td>4.750000</td>\n",
       "      <td>0</td>\n",
       "    </tr>\n",
       "    <tr>\n",
       "      <th>2</th>\n",
       "      <td>Where is Hank?</td>\n",
       "      <td>14</td>\n",
       "      <td>4.000000</td>\n",
       "      <td>1</td>\n",
       "    </tr>\n",
       "    <tr>\n",
       "      <th>3</th>\n",
       "      <td>ToshiCapital Rekordz Needs Help to Complete Album</td>\n",
       "      <td>49</td>\n",
       "      <td>6.142857</td>\n",
       "      <td>1</td>\n",
       "    </tr>\n",
       "    <tr>\n",
       "      <th>4</th>\n",
       "      <td>Community Film Project: The Art of Neighborhoo...</td>\n",
       "      <td>58</td>\n",
       "      <td>6.375000</td>\n",
       "      <td>1</td>\n",
       "    </tr>\n",
       "  </tbody>\n",
       "</table>\n",
       "</div>"
      ],
      "text/plain": [
       "                                                name  char_count  avg_word  \\\n",
       "0                    The Songs of Adelaide & Abullah          31  4.333333   \n",
       "1      Greeting From Earth: ZGAC Arts Capsule For ET          45  4.750000   \n",
       "2                                     Where is Hank?          14  4.000000   \n",
       "3  ToshiCapital Rekordz Needs Help to Complete Album          49  6.142857   \n",
       "4  Community Film Project: The Art of Neighborhoo...          58  6.375000   \n",
       "\n",
       "   stopwords  \n",
       "0          1  \n",
       "1          0  \n",
       "2          1  \n",
       "3          1  \n",
       "4          1  "
      ]
     },
     "execution_count": 184,
     "metadata": {},
     "output_type": "execute_result"
    }
   ],
   "source": [
    "sub_df.head()"
   ]
  },
  {
   "cell_type": "code",
   "execution_count": 185,
   "metadata": {},
   "outputs": [],
   "source": [
    "sub_df['name'] = sub_df['name'].apply(lambda x: \" \".join(x.lower() for x in x.split()))"
   ]
  },
  {
   "cell_type": "code",
   "execution_count": 186,
   "metadata": {},
   "outputs": [],
   "source": [
    "sub_df['name'] = sub_df['name'].str.replace('[^\\w\\s]','')"
   ]
  },
  {
   "cell_type": "code",
   "execution_count": 187,
   "metadata": {},
   "outputs": [],
   "source": [
    "stop = stopwords.words('english')\n",
    "sub_df['name'] = sub_df['name'].apply(lambda x: \" \".join(x for x in x.split() if x not in stop))"
   ]
  },
  {
   "cell_type": "code",
   "execution_count": 188,
   "metadata": {},
   "outputs": [],
   "source": [
    "current_df = df\n",
    "current_df = current_df.query('state != \"0\"')\n",
    "#df = df.query('state != \"live\"')\n",
    "freq = pd.Series(' '.join(current_df['name']).split()).value_counts()[:10]"
   ]
  }
 ],
 "metadata": {
  "kernelspec": {
   "display_name": "Python 3",
   "language": "python",
   "name": "python3"
  },
  "language_info": {
   "codemirror_mode": {
    "name": "ipython",
    "version": 3
   },
   "file_extension": ".py",
   "mimetype": "text/x-python",
   "name": "python",
   "nbconvert_exporter": "python",
   "pygments_lexer": "ipython3",
   "version": "3.7.3"
  }
 },
 "nbformat": 4,
 "nbformat_minor": 2
}
